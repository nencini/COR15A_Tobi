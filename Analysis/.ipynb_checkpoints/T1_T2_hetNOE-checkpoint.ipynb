{
 "cells": [
  {
   "cell_type": "code",
   "execution_count": 1,
   "id": "9b8925b4",
   "metadata": {},
   "outputs": [
    {
     "data": {
      "text/plain": [
       "0"
      ]
     },
     "execution_count": 1,
     "metadata": {},
     "output_type": "execute_result"
    }
   ],
   "source": [
    "import sys\n",
    "import numpy as np\n",
    "import gc\n",
    "import matplotlib.pyplot as plt\n",
    "import math\n",
    "\n",
    "#sys.path.append(\"/home/nenciric/Documents/git/NMR_FF_tools/relaxation_times\") \n",
    "import ExperimentalRelaxationTimes as ERT\n",
    "\n",
    "gc.collect()\n"
   ]
  },
  {
   "cell_type": "code",
   "execution_count": null,
   "id": "c5bbdfc6",
   "metadata": {},
   "outputs": [],
   "source": [
    "data_from_DynamicCenter,field,coeff,outputP,author,info,increments"
   ]
  },
  {
   "cell_type": "code",
   "execution_count": 16,
   "id": "4c76ace2",
   "metadata": {},
   "outputs": [
    {
     "ename": "NameError",
     "evalue": "name 't1_t2_relaxations' is not defined",
     "output_type": "error",
     "traceback": [
      "\u001b[0;31m---------------------------------------------------------------------------\u001b[0m",
      "\u001b[0;31mNameError\u001b[0m                                 Traceback (most recent call last)",
      "Input \u001b[0;32mIn [16]\u001b[0m, in \u001b[0;36m<cell line: 8>\u001b[0;34m()\u001b[0m\n\u001b[1;32m      6\u001b[0m increments\u001b[38;5;241m=\u001b[39m\u001b[38;5;241m223\u001b[39m\n\u001b[1;32m      7\u001b[0m data_from_DynamicCenter\u001b[38;5;241m=\u001b[39m\u001b[38;5;124m\"\u001b[39m\u001b[38;5;124mT1_223incr_no_0coeff_0output.txt\u001b[39m\u001b[38;5;124m\"\u001b[39m\n\u001b[0;32m----> 8\u001b[0m results\u001b[38;5;241m=\u001b[39m[\u001b[43mt1_t2_relaxations\u001b[49m(data_from_DynamicCenter,field,\u001b[38;5;241m0\u001b[39m,\u001b[38;5;241m0\u001b[39m,author,info,increments)]\n\u001b[1;32m      9\u001b[0m \u001b[38;5;28;01mfor\u001b[39;00m coeff \u001b[38;5;129;01min\u001b[39;00m coeffs:\n\u001b[1;32m     10\u001b[0m     \u001b[38;5;28;01mfor\u001b[39;00m outputP \u001b[38;5;129;01min\u001b[39;00m outputs:\n",
      "\u001b[0;31mNameError\u001b[0m: name 't1_t2_relaxations' is not defined"
     ]
    }
   ],
   "source": [
    "field=\"600 MHz\"\n",
    "coeffs=[2,8,32,64]\n",
    "outputs=[0,2,8,32,128]\n",
    "author=[\"Ricky Nencini\",  \"ricky.nencini@helsinki.fi\"]\n",
    "info=\"Tobbi_COR15A_wt_0.9mM_20mM_Na-P_buffer_sample2_September2022\"\n",
    "increments=223\n",
    "data_from_DynamicCenter=\"T1_223incr_no_0coeff_0output.txt\"\n",
    "results=[ERT.t1_t2_relaxations(data_from_DynamicCenter,field,0,0,author,info,increments)]\n",
    "for coeff in coeffs:\n",
    "    for outputP in outputs:\n",
    "        data_from_DynamicCenter=\"T1_\"+str(increments)+\"incr_no_\"+str(coeff)+\"coeff_\"+str(outputP)+\"output.txt\"\n",
    "        results.append(ERT.t1_t2_relaxations(data_from_DynamicCenter,field,coeff,outputP,author,info,increments))\n",
    "        "
   ]
  },
  {
   "cell_type": "code",
   "execution_count": 5,
   "id": "85a55daa",
   "metadata": {},
   "outputs": [],
   "source": [
    "def pokus(*arg):\n",
    "    for one in arg:\n",
    "        print(one)"
   ]
  },
  {
   "cell_type": "code",
   "execution_count": 6,
   "id": "22f1b0c8",
   "metadata": {},
   "outputs": [],
   "source": [
    "daticka=[\"lelky\",\"deti\",\"achjo\",\"tenPodzimJeKrasny\"]"
   ]
  },
  {
   "cell_type": "code",
   "execution_count": 14,
   "id": "81e1b44b",
   "metadata": {},
   "outputs": [
    {
     "name": "stdout",
     "output_type": "stream",
     "text": [
      "lelky\n",
      "deti\n",
      "achjo\n",
      "tenPodzimJeKrasny\n"
     ]
    }
   ],
   "source": [
    "pokus(*daticka)"
   ]
  },
  {
   "cell_type": "code",
   "execution_count": null,
   "id": "061b75b1",
   "metadata": {},
   "outputs": [],
   "source": [
    "no_LP=ERT.t1_t2_relaxations(\"T1_227incr_no_0coeff_0output.txt\")[0]\n",
    "no_16_2=ERT.t1_t2_relaxations(\"T1_227incr_no_16coeff_2output.txt\")[0]\n",
    "no_16_8=ERT.t1_t2_relaxations(\"T1_227incr_no_16coeff_8output.txt\")[0]\n",
    "no_16_32=ERT.t1_t2_relaxations(\"T1_227incr_no_16coeff_32output.txt\")[0]\n",
    "no_16_128=ERT.t1_t2_relaxations(\"T1_227incr_no_16coeff_128output.txt\")[0]\n",
    "\n",
    "no_32_2=ERT.t1_t2_relaxations(\"T1_227incr_no_32coeff_2output.txt\")[0]\n",
    "no_32_8=ERT.t1_t2_relaxations(\"T1_227incr_no_32coeff_8output.txt\")[0]\n",
    "no_32_32=ERT.t1_t2_relaxations(\"T1_227incr_no_32coeff_32output.txt\")[0]\n",
    "no_32_128=ERT.t1_t2_relaxations(\"T1_227incr_no_32coeff_128output.txt\")[0]\n",
    "\n",
    "no_64_2=ERT.t1_t2_relaxations(\"T1_227incr_no_64coeff_2output.txt\")[0]\n",
    "no_64_8=ERT.t1_t2_relaxations(\"T1_227incr_no_64coeff_8output.txt\")[0]\n",
    "no_64_32=ERT.t1_t2_relaxations(\"T1_227incr_no_64coeff_32output.txt\")[0]\n",
    "no_64_128=ERT.t1_t2_relaxations(\"T1_227incr_no_64coeff_128output.txt\")[0]"
   ]
  }
 ],
 "metadata": {
  "kernelspec": {
   "display_name": "all3",
   "language": "python",
   "name": "all3"
  },
  "language_info": {
   "codemirror_mode": {
    "name": "ipython",
    "version": 3
   },
   "file_extension": ".py",
   "mimetype": "text/x-python",
   "name": "python",
   "nbconvert_exporter": "python",
   "pygments_lexer": "ipython3",
   "version": "3.10.4"
  }
 },
 "nbformat": 4,
 "nbformat_minor": 5
}
